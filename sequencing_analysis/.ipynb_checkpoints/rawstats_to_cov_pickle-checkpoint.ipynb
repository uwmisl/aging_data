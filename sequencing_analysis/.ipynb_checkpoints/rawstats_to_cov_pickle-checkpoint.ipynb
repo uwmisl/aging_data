{
 "cells": [
  {
   "cell_type": "markdown",
   "metadata": {},
   "source": [
    "# This script takes all rawstats files buried in the current directory's directories and makes a .pickle file of their coverages"
   ]
  },
  {
   "cell_type": "markdown",
   "metadata": {},
   "source": [
    "## Overview and imports"
   ]
  },
  {
   "cell_type": "code",
   "execution_count": 17,
   "metadata": {
    "collapsed": true
   },
   "outputs": [],
   "source": [
    "import os\n",
    "from os.path import join, getsize\n",
    "import pickle\n",
    "\n",
    "# read in sequences for file 8 and 15\n",
    "# store in dictionary of num:seq (ie. {890:\"AGGTCAT...TTCG\"...})\n",
    "\n",
    "# create dictionary of empty F8\n",
    "# create dictionary of empty F15\n",
    "\n",
    "\n",
    "# read in each .rawstats file\n",
    "# extract seq num and cov\n",
    "# copy appropriate dict and store in dictionary of num:seq\n",
    "\n",
    "#pickle dictionary as top_dir_name+.rawstats_name"
   ]
  },
  {
   "cell_type": "markdown",
   "metadata": {},
   "source": [
    "## Condition names"
   ]
  },
  {
   "cell_type": "code",
   "execution_count": 18,
   "metadata": {},
   "outputs": [
    {
     "name": "stdout",
     "output_type": "stream",
     "text": [
      "set(['Trehalose', 'Sugars', 'BeadsDNAStable', 'Imagene', 'GenTegra', 'DNAStablePCR', 'Dried', 'Filterpaper', 'DNAStable', 'Imageneshippingcontrol'])\n"
     ]
    }
   ],
   "source": [
    "naming = pickle.load( open( \"master_file_metrics.pickle\", \"rb\" ) )\n",
    "ks = naming.keys()\n",
    "#print len(ks)\n",
    "\n",
    "#print naming[ks[0]].keys()\n",
    "name_set = set()\n",
    "for k in ks:\n",
    "    name_set.add(naming[k]['Condition'])\n",
    "    \n",
    "print name_set"
   ]
  },
  {
   "cell_type": "markdown",
   "metadata": {},
   "source": [
    "## Create dictionary mapping sequence number to sequence"
   ]
  },
  {
   "cell_type": "code",
   "execution_count": 21,
   "metadata": {
    "collapsed": true
   },
   "outputs": [],
   "source": [
    "seq_num = {} # master dictionary of ALL DNA sequences and their sequence numbers {'AGAACCAG...':seq_num}\n",
    "\n",
    "file = open(\"P1-20160216-750K-150-ID8-FP10-RP11.txt\", \"r\")\n",
    "f8_seq_dict = {}\n",
    "\n",
    "count = 0 # .rawstats files start with sequence 1, not sequence 0\n",
    "for line in file:\n",
    "    if \"5'\" in line: # so we avoid all header and footer stuff\n",
    "        count += 1\n",
    "        seq = line.split(\"-\")[1]\n",
    "        \n",
    "        # checked to make sure that every line returned the sequence we wanted!\n",
    "        #if len(seq) != 150:  \n",
    "            #print \"WHOA\"\n",
    "            \n",
    "        f8_seq_dict[seq] = count\n",
    "        seq_num[seq] = count\n",
    "assert len(f8_seq_dict) == 21601\n",
    "        \n",
    "    \n",
    "    \n",
    "file = open(\"P2-20160229-1.6M-150-ID15-FP41-RP31.txt\", \"r\")\n",
    "f15_seq_dict = {}\n",
    "\n",
    "count = 0 # .rawstats files start with sequence 1, not sequence 0\n",
    "for line in file:\n",
    "    if \"5'\" in line: # so we avoid all header and footer stuff\n",
    "        count += 1\n",
    "        seq = line.split(\"-\")[1]\n",
    "        \n",
    "        # checked to make sure that every line returned the sequence we wanted!\n",
    "        #if len(seq) != 150:  \n",
    "            #print \"WHOA\"\n",
    "            \n",
    "        f15_seq_dict[seq] = count\n",
    "        seq_num[seq] = count\n",
    "assert len(f15_seq_dict) == 7373\n",
    "\n",
    "\n",
    "\n",
    "assert len(seq_num) == 7373 + 21601\n"
   ]
  },
  {
   "cell_type": "markdown",
   "metadata": {},
   "source": [
    "## Extract coverage data from .rawstats files and pickle that coverage data "
   ]
  },
  {
   "cell_type": "code",
   "execution_count": 33,
   "metadata": {
    "collapsed": true
   },
   "outputs": [],
   "source": [
    "def single_cov(root, file, pickle_file_name):\n",
    "    \"\"\"                                                                                                                             \n",
    "    Given a file (that is a .rawstats file), makes a dictionary mapping each sequence\n",
    "    to its sequencing coverage. Returns a .pickle file.\n",
    "    \"\"\"\n",
    "    temp_cov_dict = get_cov_data(root, file)\n",
    "    f_name = pickle_file_name + '.pickle'\n",
    "    # pickle\n",
    "    with open(f_name, 'wb') as handle:\n",
    "        pickle.dump(temp_cov_dict, handle, protocol=pickle.HIGHEST_PROTOCOL) # HIGHEST_PROTOCOL compression is good\n",
    "            \n",
    "            \n",
    "def get_seq_num(seq):\n",
    "    \"Given a DNA sequence, gets the sequence number\"\n",
    "    global seq_num\n",
    "    return seq_num[seq]\n",
    "    \n",
    "def get_cov_data(root, file):\n",
    "    \"\"\"                                                                                                                             \n",
    "    Given a path to the file and file name, returns a dictionary of sequence \n",
    "    mapped to its coverage (float)                        \n",
    "    \"\"\"\n",
    "    # initialize dicts mapping seq number to 0 (default coverage)\n",
    "    if '15' in file:\n",
    "        f15_cov_dict = {}\n",
    "        ks = f15_seq_dict.values()\n",
    "        for k in ks:\n",
    "            f15_cov_dict[k] = 0\n",
    "        assert len(f15_cov_dict) == 7373\n",
    "        # gets .rawstat data\n",
    "        csv_file = open(root + \"/\" + file)\n",
    "        for row in csv_file:\n",
    "            seq = row.split(',')[-1]\n",
    "            seq = seq[1:151]\n",
    "            seq = get_seq_num(seq)\n",
    "            cov = int(row.split(',')[2])\n",
    "            f15_cov_dict[seq] = cov\n",
    "        return f15_cov_dict\n",
    "     \n",
    "    # initialize dicts mapping seq number to 0 (default coverage)\n",
    "    if '8' in file:\n",
    "        f8_cov_dict = {}\n",
    "        ks = f8_seq_dict.values()\n",
    "        for k in ks:\n",
    "            f8_cov_dict[k] = 0\n",
    "        assert len(f8_cov_dict) == 21601\n",
    "        # gets .rawstat data\n",
    "        csv_file = open(root + \"/\" + file)\n",
    "        for row in csv_file:\n",
    "            seq = row.split(',')[-1]\n",
    "            seq = seq[1:151]\n",
    "            seq = get_seq_num(seq)\n",
    "            cov = int(row.split(',')[2])\n",
    "            f8_cov_dict[seq] = cov\n",
    "        return f8_cov_dict\n",
    "        \n",
    "def find_real_expt_condition(expt_description_title, name_set):\n",
    "    \"\"\"\n",
    "    Given a string like \"E6_Beads_DNAStable_75_Run54\", returns a string like\n",
    "    \"E6_BeadsDNAStable_75_Run54\"\n",
    "    AKA- changes the condition (like DNAStable or PCRDNAstable) to the name found\n",
    "    in the given name_set\n",
    "    \"\"\"\n",
    "    condition = expt_description_title.split('_')[1]\n",
    "    \n",
    "    if condition in name_set:\n",
    "        return expt_description_title\n",
    "    \n",
    "    else:\n",
    "        if condition == 'Beads':\n",
    "            new_condition = 'BeadsDNAStable'\n",
    "        elif condition == 'Imagene' and expt_description_title.split('_')[2] == 'shippingcontrol':\n",
    "            new_condition = \"Imageneshippingcontrol\"\n",
    "        elif condition == \"PCRDNAStable\":\n",
    "            new_condition = \"DNAStablePCR\"\n",
    "        elif condition == 'Gentegra':\n",
    "            new_condition = 'GenTegra'\n",
    "        elif condition == 'Sugar':\n",
    "            new_condition = 'Sugars'\n",
    "        else:\n",
    "            print condition\n",
    "            print expt_description_title\n",
    "            print\n",
    "        \n",
    "    lig_id = expt_description_title.split('_')[0]\n",
    "    run = expt_description_title.split('_')[-1]\n",
    "    temp = expt_description_title.split('_')[-2]\n",
    "    \n",
    "    return lig_id + '_' + new_condition + '_' + temp + '_' + run\n",
    "                    \n",
    "\n",
    " # go through every .rawstats file buried in the aging_analysis_copy directories\n",
    "for root, dirs, files in os.walk('/Users/leeorg/Desktop/aging_analysis_copy'):\n",
    "    if len(files) != 0: # ignore directories with only directories in them (AKA no files in them)\n",
    "        for f in files:\n",
    "            if '.rawstats' in f:\n",
    "                f_id = f.split('.rawstats')[0]\n",
    "                split_path = root.split('/')\n",
    "                timepoint = split_path[5] + '__' #two underscores to separate this easily in the future if needed\n",
    "                \n",
    "                expt_description = find_real_expt_condition(split_path[6], name_set) + '__' #two underscores to separate easily in the future if needed\n",
    "                \n",
    "                pickle_file_name = timepoint + expt_description + f_id\n",
    "                single_cov(root, f, pickle_file_name)\n"
   ]
  },
  {
   "cell_type": "code",
   "execution_count": 34,
   "metadata": {},
   "outputs": [
    {
     "name": "stdout",
     "output_type": "stream",
     "text": [
      "21601\n",
      "63\n"
     ]
    }
   ],
   "source": [
    "unpickled_cov_dict = pickle.load( open( \"Aging_TP0__A1_Imagene_65_Run54__p1_f8.pickle\", \"rb\" ) )\n",
    "print len(unpickled_cov_dict)\n",
    "print unpickled_cov_dict[1]\n",
    "\n",
    "assert len(unpickled_cov_dict) == 21601\n",
    "assert unpickled_cov_dict[1] == 63"
   ]
  },
  {
   "cell_type": "code",
   "execution_count": null,
   "metadata": {
    "collapsed": true
   },
   "outputs": [],
   "source": []
  }
 ],
 "metadata": {
  "kernelspec": {
   "display_name": "Python 2",
   "language": "python",
   "name": "python2"
  },
  "language_info": {
   "codemirror_mode": {
    "name": "ipython",
    "version": 2
   },
   "file_extension": ".py",
   "mimetype": "text/x-python",
   "name": "python",
   "nbconvert_exporter": "python",
   "pygments_lexer": "ipython2",
   "version": "2.7.14"
  }
 },
 "nbformat": 4,
 "nbformat_minor": 2
}
